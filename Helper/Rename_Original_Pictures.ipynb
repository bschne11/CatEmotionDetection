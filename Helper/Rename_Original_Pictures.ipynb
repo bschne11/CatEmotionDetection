{
  "nbformat": 4,
  "nbformat_minor": 0,
  "metadata": {
    "colab": {
      "name": "Rename_Original_Pictures.ipynb",
      "provenance": []
    },
    "kernelspec": {
      "name": "python3",
      "display_name": "Python 3"
    },
    "language_info": {
      "name": "python"
    }
  },
  "cells": [
    {
      "cell_type": "code",
      "execution_count": null,
      "metadata": {
        "colab": {
          "base_uri": "https://localhost:8080/"
        },
        "id": "3cIgr1lD_SoB",
        "outputId": "20c17ebc-2c87-4b8e-9c79-e0a40dcef6d6"
      },
      "outputs": [
        {
          "output_type": "stream",
          "name": "stdout",
          "text": [
            "Mounted at /content/drive\n"
          ]
        }
      ],
      "source": [
        "from google.colab import drive\n",
        "drive.mount('/content/drive')"
      ]
    },
    {
      "cell_type": "code",
      "source": [
        "import os\n",
        "import cv2\n",
        "\n",
        "data_pictures = '/content/drive/MyDrive/Coin Project 1/Development_2/Pictures'\n",
        "data_pictures_renamed = '/content/drive/MyDrive/Coin Project 1/Development_2/Pictures_Renamed'\n",
        "\n",
        "for folder in os.listdir(data_pictures):\n",
        "  print('Starting with folder: ', folder)\n",
        "  counter = 0\n",
        "  emotion_path = data_pictures + '/' + str(folder)\n",
        "  for file_name in os.listdir(emotion_path):\n",
        "    input_image_path = emotion_path + '/' + file_name\n",
        "    output_image_path = data_pictures_renamed + '/' + str(folder) + '/' + str(folder) + '_' + str(counter) + '.jpg'\n",
        "\n",
        "    image = cv2.imread(input_image_path)\n",
        "    cv2.imwrite(output_image_path, image)\n",
        "    counter += 1\n",
        "    print('Finished picture: ', output_image_path)"
      ],
      "metadata": {
        "id": "PBIH67mh_h48"
      },
      "execution_count": null,
      "outputs": []
    }
  ]
}