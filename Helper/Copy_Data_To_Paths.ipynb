{
  "nbformat": 4,
  "nbformat_minor": 5,
  "metadata": {
    "kernelspec": {
      "display_name": "Python [pipenv: aiim_env]",
      "language": "python",
      "name": "aiim_env"
    },
    "language_info": {
      "codemirror_mode": {
        "name": "ipython",
        "version": 3
      },
      "file_extension": ".py",
      "mimetype": "text/x-python",
      "name": "python",
      "nbconvert_exporter": "python",
      "pygments_lexer": "ipython3",
      "version": "3.8.5"
    },
    "colab": {
      "name": "Copy_Data_To_Paths.ipynb",
      "provenance": [],
      "collapsed_sections": [
        "rbPQS1ZB1TC2",
        "o45IFAhwkeht",
        "eKrYiYIctMKu",
        "G6UOoA_6tla0",
        "MIWC6OrJxMt_",
        "EUHSF0Wnz1Ub"
      ]
    },
    "accelerator": "TPU"
  },
  "cells": [
    {
      "cell_type": "code",
      "source": [
        "from torchvision import datasets, transforms\n",
        "from torchvision.transforms.transforms import GaussianBlur\n",
        "from torch.utils.data import DataLoader\n",
        "import torch.nn as nn\n",
        "import torch.nn.functional as F\n",
        "import torch.optim as optim\n",
        "import torch\n",
        "\n",
        "import os\n",
        "import cv2\n",
        "import shutil\n",
        "from PIL import Image\n",
        "\n",
        "import matplotlib.pyplot as plt\n",
        "import pandas as pd\n",
        "import numpy as np\n",
        "\n",
        "from sklearn.model_selection import train_test_split\n",
        "from sklearn.metrics import accuracy_score\n",
        "\n",
        "from skimage.io import imread, imsave\n",
        "from tqdm import tqdm\n",
        "from skimage.transform import rotate\n",
        "from skimage.util import random_noise\n",
        "from skimage.filters import gaussian\n",
        "from scipy import ndimage"
      ],
      "metadata": {
        "id": "FWuVeMI51EjZ"
      },
      "id": "FWuVeMI51EjZ",
      "execution_count": null,
      "outputs": []
    },
    {
      "cell_type": "code",
      "source": [
        "from google.colab import drive\n",
        "drive.mount('/content/drive')"
      ],
      "metadata": {
        "colab": {
          "base_uri": "https://localhost:8080/"
        },
        "id": "MnoVPjXUbkEW",
        "outputId": "a7039e2a-038e-4cf5-e5d3-3b5e3e886052"
      },
      "id": "MnoVPjXUbkEW",
      "execution_count": null,
      "outputs": [
        {
          "output_type": "stream",
          "name": "stdout",
          "text": [
            "Mounted at /content/drive\n"
          ]
        }
      ]
    },
    {
      "cell_type": "code",
      "source": [
        "dev2 = '/content/drive/MyDrive/Coin Project 1/Development_2/'\n",
        "pictures_cropped_4_01 = '/content/drive/MyDrive/Coin Project 1/Development_2/Pictures_Cropped_4/01'\n",
        "pictures_cropped_4_02 = '/content/drive/MyDrive/Coin Project 1/Development_2/Pictures_Cropped_4/02'\n",
        "pictures_cropped_3_01 = '/content/drive/MyDrive/Coin Project 1/Development_2/Pictures_Cropped_3/01'\n",
        "pictures_cropped_3_02 = '/content/drive/MyDrive/Coin Project 1/Development_2/Pictures_Cropped_3/02'\n",
        "pictures_cropped_3_03 = '/content/drive/MyDrive/Coin Project 1/Development_2/Pictures_Cropped_3/03'\n",
        "\n",
        "\n",
        "pictures = '/content/drive/MyDrive/Coin Project 1/Development_2/Pictures'\n",
        "pictures_cropped = '/content/drive/MyDrive/Coin Project 1/Development_2/Pictures_Cropped'\n",
        "pictures_test = '/content/drive/MyDrive/Coin Project 1/Development_2/CNN/Test_Data'\n",
        "pictures_train = '/content/drive/MyDrive/Coin Project 1/Development_2/CNN/Train_Data'"
      ],
      "metadata": {
        "id": "aTgzBgM8J2T3"
      },
      "id": "aTgzBgM8J2T3",
      "execution_count": null,
      "outputs": []
    },
    {
      "cell_type": "markdown",
      "source": [
        "# **Delete Folders**"
      ],
      "metadata": {
        "id": "rbPQS1ZB1TC2"
      },
      "id": "rbPQS1ZB1TC2"
    },
    {
      "cell_type": "code",
      "source": [
        "import time\n",
        "\n",
        "# Test Data\n",
        "os.chdir(pictures_test)\n",
        "!ls\n",
        "!rm -rf Alert\n",
        "!rm -rf Anger\n",
        "!rm -rf Anxious\n",
        "!rm -rf Fear\n",
        "!rm -rf Neutral\n",
        "!rm -rf Relaxed\n",
        "!rm -rf Anger_Fear\n",
        "!rm -rf Anger_Fear_Anxious\n",
        "!ls\n",
        "time.sleep(60) # wait 60 seconds "
      ],
      "metadata": {
        "colab": {
          "base_uri": "https://localhost:8080/"
        },
        "id": "wY19AdUKddE7",
        "outputId": "5e38b8c1-7c05-44c2-f74a-8948a6c6a65b"
      },
      "id": "wY19AdUKddE7",
      "execution_count": null,
      "outputs": [
        {
          "output_type": "stream",
          "name": "stdout",
          "text": [
            "Alert  Anger_Fear_Anxious  Neutral  Relaxed\n"
          ]
        }
      ]
    },
    {
      "cell_type": "code",
      "source": [
        "import time\n",
        "\n",
        "# Train Data\n",
        "os.chdir(pictures_train)\n",
        "!ls\n",
        "!rm -rf Alert\n",
        "!rm -rf Anger\n",
        "!rm -rf Anxious\n",
        "!rm -rf Fear\n",
        "!rm -rf Neutral\n",
        "!rm -rf Relaxed\n",
        "!rm -rf Anger_Fear\n",
        "!rm -rf Anger_Fear_Anxious\n",
        "!ls\n",
        "time.sleep(60) # wait 60 seconds "
      ],
      "metadata": {
        "id": "sSKz5wi_c6fw"
      },
      "id": "sSKz5wi_c6fw",
      "execution_count": null,
      "outputs": []
    },
    {
      "cell_type": "markdown",
      "source": [
        "# **Create Folders**"
      ],
      "metadata": {
        "id": "88evoYLX1QTj"
      },
      "id": "88evoYLX1QTj"
    },
    {
      "cell_type": "code",
      "source": [
        "def create_folders_6_emotions(where):\n",
        "  os.mkdir(os.path.join(where, 'Alert'))\n",
        "  os.mkdir(os.path.join(where, 'Anger'))\n",
        "  os.mkdir(os.path.join(where, 'Anxious'))\n",
        "  os.mkdir(os.path.join(where, 'Fear'))\n",
        "  os.mkdir(os.path.join(where, 'Neutral'))\n",
        "  os.mkdir(os.path.join(where, 'Relaxed'))"
      ],
      "metadata": {
        "id": "fbEUdHDzb6Ub"
      },
      "id": "fbEUdHDzb6Ub",
      "execution_count": null,
      "outputs": []
    },
    {
      "cell_type": "code",
      "source": [
        "def create_folders_4_emotions_01(where):\n",
        "  # Test\n",
        "  os.mkdir(os.path.join(where, 'Alert'))\n",
        "  os.mkdir(os.path.join(where, 'Neutral'))\n",
        "  os.mkdir(os.path.join(where, 'Relaxed'))\n",
        "  os.mkdir(os.path.join(where, 'Anger_Fear'))"
      ],
      "metadata": {
        "id": "3oNGcXwhfWk0"
      },
      "id": "3oNGcXwhfWk0",
      "execution_count": null,
      "outputs": []
    },
    {
      "cell_type": "code",
      "source": [
        "def create_folders_4_emotions_02(where):\n",
        "  os.mkdir(os.path.join(where, 'Alert'))\n",
        "  os.mkdir(os.path.join(where, 'Neutral'))\n",
        "  os.mkdir(os.path.join(where, 'Relaxed'))\n",
        "  os.mkdir(os.path.join(where, 'Anger_Fear_Anxious'))"
      ],
      "metadata": {
        "id": "HptNF7Yxf0dU"
      },
      "id": "HptNF7Yxf0dU",
      "execution_count": null,
      "outputs": []
    },
    {
      "cell_type": "code",
      "source": [
        "def create_folders_3_emotions_01(where):\n",
        "  os.mkdir(os.path.join(where, 'Neutral'))\n",
        "  os.mkdir(os.path.join(where, 'Relaxed'))\n",
        "  os.mkdir(os.path.join(where, 'Anger_Fear'))"
      ],
      "metadata": {
        "id": "yohVBNW9t9S4"
      },
      "id": "yohVBNW9t9S4",
      "execution_count": null,
      "outputs": []
    },
    {
      "cell_type": "code",
      "source": [
        "def create_folders_3_emotions_02(where):\n",
        "  os.mkdir(os.path.join(where, 'Alert'))\n",
        "  os.mkdir(os.path.join(where, 'Neutral_Relaxed'))\n",
        "  os.mkdir(os.path.join(where, 'Anger_Fear_Anxious'))"
      ],
      "metadata": {
        "id": "TuudManquBAl"
      },
      "id": "TuudManquBAl",
      "execution_count": null,
      "outputs": []
    },
    {
      "cell_type": "code",
      "source": [
        "def create_folders_3_emotions_03(where):\n",
        "  os.mkdir(os.path.join(where, 'Neutral'))\n",
        "  os.mkdir(os.path.join(where, 'Relaxed'))\n",
        "  os.mkdir(os.path.join(where, 'Anger_Fear_Anxious'))"
      ],
      "metadata": {
        "id": "iD1ioFNFvS5Z"
      },
      "id": "iD1ioFNFvS5Z",
      "execution_count": null,
      "outputs": []
    },
    {
      "cell_type": "code",
      "source": [
        "def get_length_of_minimum_emotion():\n",
        "  sizes = []\n",
        "  for folder in os.listdir(pictures_cropped):\n",
        "    emotion_path = pictures_cropped + '/' + str(folder)\n",
        "    sizes.append(len(os.listdir(emotion_path)))\n",
        "    print('Number of Samples for folder ', folder, ': ', len(os.listdir(emotion_path)))\n",
        "  sizes = [i for i in sizes if i != 0]\n",
        "  print('Sizes: ', sizes)\n",
        "  return min(sizes)"
      ],
      "metadata": {
        "id": "2b8pKDJXS84O"
      },
      "id": "2b8pKDJXS84O",
      "execution_count": null,
      "outputs": []
    },
    {
      "cell_type": "markdown",
      "source": [
        "# **Copy Data 4 Emotions**"
      ],
      "metadata": {
        "id": "XZDW1O9uglng"
      },
      "id": "XZDW1O9uglng"
    },
    {
      "cell_type": "markdown",
      "source": [
        "## Setup 4 Emotions Folder ['Alert', 'Neutral', 'Relaxed', 'Anger_Fear']\n",
        "# Fill these folders!"
      ],
      "metadata": {
        "id": "o45IFAhwkeht"
      },
      "id": "o45IFAhwkeht"
    },
    {
      "cell_type": "code",
      "source": [
        "# create folders\n",
        "try:\n",
        "  create_folders_4_emotions_01(pictures_cropped_4_01)\n",
        "except:\n",
        "  print('Folders already there!')\n",
        "# copy pictures\n",
        "emotions_4_01 = ['Alert', 'Neutral', 'Relaxed', 'Anger', 'Fear']\n",
        "for folder in os.listdir(pictures_cropped):\n",
        "  emotion_path = pictures_cropped + '/' + str(folder)\n",
        "  emotion = str(folder)\n",
        "  print('Emotion: ', emotion)\n",
        "  if emotion in emotions_4_01:\n",
        "    #print('Emotion in list', emotion)\n",
        "    for image in os.listdir(emotion_path):\n",
        "      image_name = os.path.join(emotion_path, image)\n",
        "      #print('Image name', image_name)\n",
        "      if emotion == 'Anger':\n",
        "        output_folder = 'Anger_Fear'\n",
        "      elif emotion == 'Fear':\n",
        "        output_folder = 'Anger_Fear'\n",
        "      else:\n",
        "        output_folder = emotion\n",
        "      output_folder = pictures_cropped_4_01 + '/' + output_folder\n",
        "      #print('Writing files to:', output_folder)\n",
        "      shutil.copy(image_name, output_folder)\n",
        "  else:\n",
        "    print('Path not used:', emotion_path)"
      ],
      "metadata": {
        "colab": {
          "base_uri": "https://localhost:8080/"
        },
        "id": "9QPDawy5jjlo",
        "outputId": "0ae5836a-f70f-48f3-e0cc-f31b0e8ad643"
      },
      "id": "9QPDawy5jjlo",
      "execution_count": null,
      "outputs": [
        {
          "output_type": "stream",
          "name": "stdout",
          "text": [
            "Emotion:  Alert\n",
            "Emotion:  Anger\n",
            "Emotion:  Anxious\n",
            "Path not used: /content/drive/MyDrive/Coin Project 1/Development_2/Pictures_Cropped/Anxious\n",
            "Emotion:  Relaxed\n",
            "Emotion:  Neutral\n",
            "Emotion:  Fear\n"
          ]
        }
      ]
    },
    {
      "cell_type": "markdown",
      "source": [
        "# Setup 4 Emotions Folder ['Alert', 'Neutral', 'Relaxed', 'Anger_Fear_Anxious']\n",
        "Fill these folders!"
      ],
      "metadata": {
        "id": "eKrYiYIctMKu"
      },
      "id": "eKrYiYIctMKu"
    },
    {
      "cell_type": "code",
      "source": [
        "# create folders\n",
        "try:\n",
        "  create_folders_4_emotions_02(pictures_cropped_4_02)\n",
        "except Exception as e:\n",
        "  print(e)\n",
        "# copy pictures\n",
        "emotions_4_02 = ['Alert', 'Neutral', 'Relaxed', 'Anger', 'Fear', 'Anxious']\n",
        "for folder in os.listdir(pictures_cropped):\n",
        "  emotion_path = pictures_cropped + '/' + str(folder)\n",
        "  emotion = str(folder)\n",
        "  print('Emotion: ', emotion)\n",
        "  if emotion in emotions_4_02:\n",
        "    #print('Emotion in list', emotion)\n",
        "    for image in os.listdir(emotion_path):\n",
        "      image_name = os.path.join(emotion_path, image)\n",
        "      #print('Image name', image_name)\n",
        "      if emotion == 'Anger':\n",
        "        output_folder = 'Anger_Fear_Anxious'\n",
        "      elif emotion == 'Fear':\n",
        "        output_folder = 'Anger_Fear_Anxious'\n",
        "      elif emotion == 'Anxious':\n",
        "        output_folder = 'Anger_Fear_Anxious'\n",
        "      else:\n",
        "        output_folder = emotion\n",
        "      output_folder = pictures_cropped_4_02 + '/' + output_folder\n",
        "      #print('Writing files to:', output_folder)\n",
        "      shutil.copy(image_name, output_folder)\n",
        "  else:\n",
        "    print('Path not used:', emotion_path)"
      ],
      "metadata": {
        "colab": {
          "base_uri": "https://localhost:8080/"
        },
        "id": "l5KXoD-ZsU4_",
        "outputId": "75619d2f-cffa-481c-e5b2-9e4ef1e2b163"
      },
      "id": "l5KXoD-ZsU4_",
      "execution_count": null,
      "outputs": [
        {
          "output_type": "stream",
          "name": "stdout",
          "text": [
            "Emotion:  Alert\n",
            "Emotion:  Anger\n",
            "Emotion:  Anxious\n",
            "Emotion:  Relaxed\n",
            "Emotion:  Neutral\n",
            "Emotion:  Fear\n"
          ]
        }
      ]
    },
    {
      "cell_type": "markdown",
      "source": [
        "# Setup 3 Emotions Folder ['Neutral', 'Relaxed', 'Anger_Fear']\n",
        "Fill these folders!"
      ],
      "metadata": {
        "id": "G6UOoA_6tla0"
      },
      "id": "G6UOoA_6tla0"
    },
    {
      "cell_type": "code",
      "source": [
        "# create folders\n",
        "try:\n",
        "  create_folders_3_emotions_01(pictures_cropped_3_01)\n",
        "except:\n",
        "  print('Folders already there!')\n",
        "# copy pictures\n",
        "emotions_3_01 = ['Neutral', 'Relaxed', 'Anger', 'Fear']\n",
        "for folder in os.listdir(pictures_cropped):\n",
        "  emotion_path = pictures_cropped + '/' + str(folder)\n",
        "  emotion = str(folder)\n",
        "  print('Emotion: ', emotion)\n",
        "  if emotion in emotions_3_01:\n",
        "    #print('Emotion in list', emotion)\n",
        "    for image in os.listdir(emotion_path):\n",
        "      image_name = os.path.join(emotion_path, image)\n",
        "      #print('Image name', image_name)\n",
        "      if emotion == 'Anger':\n",
        "        output_folder = 'Anger_Fear'\n",
        "      elif emotion == 'Fear':\n",
        "        output_folder = 'Anger_Fear'\n",
        "      else:\n",
        "        output_folder = emotion\n",
        "      output_folder = pictures_cropped_3_01 + '/' + output_folder\n",
        "      #print('Writing files to:', output_folder)\n",
        "      shutil.copy(image_name, output_folder)\n",
        "  else:\n",
        "    print('Path not used:', emotion_path)"
      ],
      "metadata": {
        "colab": {
          "base_uri": "https://localhost:8080/"
        },
        "id": "jB91pnhMthDF",
        "outputId": "950517f8-a9bf-4d77-84e2-d8219bc9af0c"
      },
      "id": "jB91pnhMthDF",
      "execution_count": null,
      "outputs": [
        {
          "output_type": "stream",
          "name": "stdout",
          "text": [
            "Folders already there!\n",
            "Emotion:  Alert\n",
            "Path not used: /content/drive/MyDrive/Coin Project 1/Development_2/Pictures_Cropped/Alert\n",
            "Emotion:  Anger\n",
            "Emotion:  Anxious\n",
            "Path not used: /content/drive/MyDrive/Coin Project 1/Development_2/Pictures_Cropped/Anxious\n",
            "Emotion:  Relaxed\n",
            "Emotion:  Neutral\n",
            "Emotion:  Fear\n"
          ]
        }
      ]
    },
    {
      "cell_type": "markdown",
      "source": [
        "# Setup 3 Emotions Folder ['Alert', 'Neutral_Relaxed', 'Anger_Fear_Anxious']\n",
        "Fill these folders!"
      ],
      "metadata": {
        "id": "MIWC6OrJxMt_"
      },
      "id": "MIWC6OrJxMt_"
    },
    {
      "cell_type": "code",
      "source": [
        "# create \n",
        "#['Alert', 'Neutral_Relaxed', 'Anger_Fear_Anxious']\n",
        "try:\n",
        "  create_folders_3_emotions_02(pictures_cropped_3_02)\n",
        "except:\n",
        "  print('Folders already there!')\n",
        "# copy pictures\n",
        "emotions_3_02 = ['Neutral', 'Relaxed', 'Anger', 'Fear', 'Alert', 'Anxious']\n",
        "for folder in os.listdir(pictures_cropped):\n",
        "  emotion_path = pictures_cropped + '/' + str(folder)\n",
        "  emotion = str(folder)\n",
        "  print('Emotion: ', emotion)\n",
        "  if emotion in emotions_3_02:\n",
        "    #print('Emotion in list', emotion)\n",
        "    for image in os.listdir(emotion_path):\n",
        "      image_name = os.path.join(emotion_path, image)\n",
        "      #print('Image name', image_name)\n",
        "      if emotion == 'Neutral':\n",
        "        output_folder = 'Neutral_Relaxed'\n",
        "      elif emotion == 'Relaxed':\n",
        "        output_folder = 'Neutral_Relaxed'\n",
        "      elif emotion == 'Anger':\n",
        "        output_folder = 'Anger_Fear_Anxious'\n",
        "      elif emotion == 'Fear':\n",
        "        output_folder = 'Anger_Fear_Anxious'\n",
        "      elif emotion == 'Anxious':\n",
        "        output_folder = 'Anger_Fear_Anxious'\n",
        "      else:\n",
        "        output_folder = emotion\n",
        "      output_folder = pictures_cropped_3_02 + '/' + output_folder\n",
        "      #print('Writing files to:', output_folder)\n",
        "      shutil.copy(image_name, output_folder)\n",
        "  else:\n",
        "    print('Path not used:', emotion_path)"
      ],
      "metadata": {
        "colab": {
          "base_uri": "https://localhost:8080/"
        },
        "id": "9tnck4spwMxx",
        "outputId": "7f299700-8380-4e02-ff84-732da642b468"
      },
      "id": "9tnck4spwMxx",
      "execution_count": null,
      "outputs": [
        {
          "output_type": "stream",
          "name": "stdout",
          "text": [
            "Folders already there!\n",
            "Emotion:  Alert\n",
            "Emotion:  Anger\n",
            "Emotion:  Anxious\n",
            "Emotion:  Relaxed\n",
            "Emotion:  Neutral\n",
            "Emotion:  Fear\n"
          ]
        }
      ]
    },
    {
      "cell_type": "markdown",
      "source": [
        "# Setup 3 Emotions Folder ['Neutral', 'Relaxed', 'Anger_Fear_Anxious']\n",
        "Fill these folders!"
      ],
      "metadata": {
        "id": "EUHSF0Wnz1Ub"
      },
      "id": "EUHSF0Wnz1Ub"
    },
    {
      "cell_type": "code",
      "source": [
        "# create \n",
        "#['Neutral', 'Relaxed', 'Anger_Fear_Anxious']\n",
        "try:\n",
        "  create_folders_3_emotions_03(pictures_cropped_3_03)\n",
        "except:\n",
        "  print('Folders already there!')\n",
        "# copy pictures\n",
        "emotions_3_03 = ['Neutral', 'Relaxed', 'Anger', 'Fear', 'Anxious']\n",
        "for folder in os.listdir(pictures_cropped):\n",
        "  emotion_path = pictures_cropped + '/' + str(folder)\n",
        "  emotion = str(folder)\n",
        "  print('Emotion: ', emotion)\n",
        "  if emotion in emotions_3_03:\n",
        "    #print('Emotion in list', emotion)\n",
        "    for image in os.listdir(emotion_path):\n",
        "      image_name = os.path.join(emotion_path, image)\n",
        "      #print('Image name', image_name)\n",
        "      if emotion == 'Anger':\n",
        "        output_folder = 'Anger_Fear_Anxious'\n",
        "      elif emotion == 'Fear':\n",
        "        output_folder = 'Anger_Fear_Anxious'\n",
        "      elif emotion == 'Anxious':\n",
        "        output_folder = 'Anger_Fear_Anxious'\n",
        "      else:\n",
        "        output_folder = emotion\n",
        "      output_folder = pictures_cropped_3_03 + '/' + output_folder\n",
        "      #print('Writing files to:', output_folder)\n",
        "      shutil.copy(image_name, output_folder)\n",
        "  else:\n",
        "    print('Path not used:', emotion_path)"
      ],
      "metadata": {
        "id": "u1gGXLw9wM1U"
      },
      "id": "u1gGXLw9wM1U",
      "execution_count": null,
      "outputs": []
    }
  ]
}