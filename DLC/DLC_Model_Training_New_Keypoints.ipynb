{
  "cells": [
    {
      "cell_type": "code",
      "execution_count": null,
      "metadata": {
        "id": "ny0C7vyuPbs6"
      },
      "outputs": [],
      "source": [
        "!pip install deeplabcut"
      ]
    },
    {
      "cell_type": "code",
      "execution_count": null,
      "metadata": {
        "id": "UldHo1fmPorM"
      },
      "outputs": [],
      "source": [
        "%tensorflow_version 1.x"
      ]
    },
    {
      "cell_type": "code",
      "execution_count": null,
      "metadata": {
        "id": "j4YzcWjoPpj0"
      },
      "outputs": [],
      "source": [
        "import os\n",
        "os.environ[\"DLClight\"]=\"True\"\n",
        "\n",
        "import deeplabcut"
      ]
    },
    {
      "cell_type": "code",
      "execution_count": null,
      "metadata": {
        "id": "bXyDu5Y_PtDv"
      },
      "outputs": [],
      "source": [
        "from google.colab import drive\n",
        "drive.mount('/content/drive')"
      ]
    },
    {
      "cell_type": "code",
      "execution_count": null,
      "metadata": {
        "id": "8QKmRk5YPu9C"
      },
      "outputs": [],
      "source": [
        "videofile_path = ['/content/drive/MyDrive/Coin Project 1/Development_2/DLC_New_Keypoints/Emotion_Recognition/videos/']\n",
        "path_config_file = '/content/drive/MyDrive/Coin Project 1/Development_2/DLC_New_Keypoints/Emotion_Recognition/config.yaml'\n",
        "\n",
        "print('NEW path_config_file: ' + path_config_file)\n",
        "print('NEW videofile_path: ' + videofile_path[0])"
      ]
    },
    {
      "cell_type": "code",
      "execution_count": null,
      "metadata": {
        "id": "3yoAngnqT_nC"
      },
      "outputs": [],
      "source": [
        "deeplabcut.create_training_dataset(path_config_file, net_type='resnet_50', augmenter_type='imgaug')"
      ]
    },
    {
      "cell_type": "code",
      "execution_count": null,
      "metadata": {
        "id": "99BCiBWyPvKv"
      },
      "outputs": [],
      "source": [
        "deeplabcut.train_network(path_config_file, shuffle=1, displayiters=500, saveiters=5000)"
      ]
    },
    {
      "cell_type": "code",
      "execution_count": null,
      "metadata": {
        "id": "0PFOU9LNPvOR"
      },
      "outputs": [],
      "source": [
        "# %matplotlib notebook\n",
        "deeplabcut.evaluate_network(path_config_file,plotting=False)"
      ]
    }
  ],
  "metadata": {
    "accelerator": "GPU",
    "colab": {
      "background_execution": "on",
      "collapsed_sections": [],
      "name": "DLC_Model_Training_New_Keypoints",
      "provenance": []
    },
    "gpuClass": "standard",
    "kernelspec": {
      "display_name": "Python 3",
      "name": "python3"
    },
    "language_info": {
      "name": "python"
    }
  },
  "nbformat": 4,
  "nbformat_minor": 0
}